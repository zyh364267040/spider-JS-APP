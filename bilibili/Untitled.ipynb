{
 "cells": [
  {
   "cell_type": "markdown",
   "id": "8a487c63-c0ef-44b9-ace5-0290a73721a3",
   "metadata": {},
   "source": [
    "# 刷B站播放量\n",
    "- 通过抓包，找到h5是增加播放量的请求\n",
    "- h5请求携带的cookies\n",
    "    - buvid3: BA7B8ACB-2FCD-4C52-93D2-0B842AE30B9963810infoc\n",
    "    - CURRENT_FNVAL: 4048\n",
    "    - b_lsid: B93F6C1D_182451DE924\n",
    "    - _uuid: E5551156-615A-F81C-B632-696F10A1B95C264395infoc\n",
    "    - b_timer: %7B%22ffp%22%3A%7B%22333.788.fp.risk_BA7B8ACB%22%3A%22182451DEB42%22%7D%7D\n",
    "    - buvid_fp: 3b1d4233451bf290a5c5a94d74a6e25a\n",
    "    - buvid4: B50B28C5-F36F-9362-7DEB-D5212D924E8465084-022072822-oDyOoCZOBpdyXpR/2Kxgcg%3D%3D\n",
    "    - CURRENT_BLACKGAP: 0\n",
    "    - blackside_state: 0\n",
    "- h5post请求携带的参数\n",
    "    - aid: 385931598\n",
    "    - cid: 772067596\n",
    "    - bvid: BV11d4y1D7fJ\n",
    "    - part: 1\n",
    "    - mid: 0\n",
    "    - lv: 0\n",
    "    - ftime: 1659016966\n",
    "    - stime: 1659016966\n",
    "    - jsonp: jsonp\n",
    "    - type: 3\n",
    "    - sub_type: 0\n",
    "    - from_spmid: \n",
    "    - auto_continued_play: 0\n",
    "    - refer_url: \n",
    "    - bsource: \n",
    "    - spmid: "
   ]
  },
  {
   "cell_type": "code",
   "execution_count": 1,
   "id": "08e17b97-d4d4-4ed2-bed1-ce1151da4aa0",
   "metadata": {},
   "outputs": [
    {
     "name": "stdout",
     "output_type": "stream",
     "text": [
      "385931598 772067596 BV11d4y1D7fJ 0BA6BFD1-6B69-E951-EF70-A111AB14745662895infoc\n"
     ]
    }
   ],
   "source": [
    "# aid, cid, bvid在第一个请求响应中, buvid3在cookies中\n",
    "import requests\n",
    "import re\n",
    "import json\n",
    "\n",
    "\n",
    "url = 'https://www.bilibili.com/video/BV11d4y1D7fJ'\n",
    "res = requests.get(url)\n",
    "\n",
    "id_list = re.findall(r'window.__INITIAL_STATE__=(.*);\\(function\\(\\){var', res.text)\n",
    "id_dict = json.loads(id_list[0])\n",
    "aid = id_dict['aid']\n",
    "cid = id_dict['videoData']['cid']\n",
    "bvid = id_dict['bvid']\n",
    "\n",
    "buvid3 = res.cookies.get('buvid3')\n",
    "print(aid, cid, bvid, buvid3)"
   ]
  },
  {
   "cell_type": "code",
   "execution_count": 2,
   "id": "4ab8a2bb-c7b8-4241-a882-1ed2e1f5a8e2",
   "metadata": {},
   "outputs": [
    {
     "ename": "IndentationError",
     "evalue": "unexpected indent (369304060.py, line 4)",
     "output_type": "error",
     "traceback": [
      "\u001b[0;36m  Input \u001b[0;32mIn [2]\u001b[0;36m\u001b[0m\n\u001b[0;31m    ------1-------                 -2-\u001b[0m\n\u001b[0m    ^\u001b[0m\n\u001b[0;31mIndentationError\u001b[0m\u001b[0;31m:\u001b[0m unexpected indent\n"
     ]
    }
   ],
   "source": [
    "# b_lsid，js文件生成\n",
    "c.a.setCookie(\"b_lsid\", t, 0, \"current-domain\")\n",
    "t = \"\".concat(Object(f.c)(8), \"_\").concat(t);\n",
    "                      ------1-------                 -2-\n",
    "\n",
    "1 = function(e) {\n",
    "        for (var t = \"\", n = 0; n < e; n++)\n",
    "            t += o(16 * Math.random());\n",
    "                   -3-\n",
    "        return s(t, e)  ==> s(t, 8)\n",
    "                  -4-\n",
    "    }\n",
    "\n",
    "3 = function(e) {\n",
    "        return Math.ceil(e).toString(16).toUpperCase()\n",
    "    }\n",
    "\n",
    "4 = function(e, t) {  ==>(t, 8) \n",
    "        var n = \"\";\n",
    "        if (e.length < t)\n",
    "            for (var r = 0; r < t - e.length; r++)\n",
    "                n += \"0\";\n",
    "        return n + e\n",
    "    }\n",
    "\n",
    "2 = Object(f.b)(e.millisecond)\n",
    "                  -5-\n",
    "\n",
    "5 = function(e) {\n",
    "        return Math.ceil(e).toString(16).toUpperCase()\n",
    "    }"
   ]
  },
  {
   "cell_type": "code",
   "execution_count": 3,
   "id": "4a5af501-c6c0-43cf-958f-51f5294dd4ff",
   "metadata": {},
   "outputs": [
    {
     "name": "stdout",
     "output_type": "stream",
     "text": [
      "FFDAEC67_18259D780DF\n"
     ]
    }
   ],
   "source": [
    "import random\n",
    "import math\n",
    "import time\n",
    "\n",
    "\n",
    "a = ''\n",
    "for i in range(8):\n",
    "    one = hex(math.ceil(random.uniform(0, 1) * 16))[2:].upper()\n",
    "    a += one\n",
    "\n",
    "a = a.rjust(8, '0')\n",
    "    \n",
    "time_num = int(time.time() * 1000)\n",
    "t = hex(math.ceil(time_num))[2:].upper()\n",
    "\n",
    "b_lsid = a + '_' + t\n",
    "print(b_lsid)"
   ]
  },
  {
   "cell_type": "code",
   "execution_count": 64,
   "id": "7b0a7f8b-1420-4adc-9cbb-3342a7550045",
   "metadata": {},
   "outputs": [
    {
     "name": "stdout",
     "output_type": "stream",
     "text": [
      "00000002\n"
     ]
    }
   ],
   "source": [
    "# _uuid是js文件生成\n",
    "this._uuid = Object(f.a)()\n",
    "                    -----1------\n",
    "1 =function() {\n",
    "        var e = a(8)\n",
    "          , t = a(4)\n",
    "          , n = a(4)\n",
    "          , r = a(4)\n",
    "          , o = a(12)\n",
    "          , i = (new Date).getTime();\n",
    "        return e + \"-\" + t + \"-\" + n + \"-\" + r + \"-\" + o + s((i % 1e5).toString(), 5) + \"+ \"infoc\"\"\n",
    "    }\n",
    "\n",
    "a = function(e) {\n",
    "        for (var t = \"\", n = 0; n < e; n++)\n",
    "            t += o(16 * Math.random());\n",
    "        return s(t, e)\n",
    "    }\n",
    "\n",
    "s = function(e, t) {\n",
    "        var n = \"\";\n",
    "        if (e.length < t)\n",
    "            for (var r = 0; r < t - e.length; r++)\n",
    "                n += \"0\";\n",
    "        return n + e\n",
    "    }\n",
    "\n",
    "o = function(e) {\n",
    "        return Math.ceil(e).toString(16).toUpperCase()\n",
    "    }"
   ]
  },
  {
   "cell_type": "code",
   "execution_count": 10,
   "id": "b9ec9935-b45b-4699-a45e-a54f9f811e66",
   "metadata": {},
   "outputs": [
    {
     "name": "stdout",
     "output_type": "stream",
     "text": [
      "07F03D34-91AD-4C51-BBF1-CFC8BFF036FD71461infoc\n"
     ]
    }
   ],
   "source": [
    "import uuid\n",
    "\n",
    "uuid1 = str(uuid.uuid4()).upper()\n",
    "\n",
    "uuid2 = str(int(time.time() * 1000 % 1e5))\n",
    "\n",
    "uuid2 = uuid2.rjust(5, '0')\n",
    "\n",
    "_uuid = f'{uuid1}{uuid2}infoc'\n",
    "print(_uuid)"
   ]
  },
  {
   "cell_type": "code",
   "execution_count": 13,
   "id": "c7a1cad5-39a1-40e7-a944-4f6faba77941",
   "metadata": {},
   "outputs": [
    {
     "name": "stdout",
     "output_type": "stream",
     "text": [
      "{\"code\":0,\"data\":{\"b_3\":\"E1CBA878-A8B0-6950-B546-87CB64B5E0AA15712infoc\",\"b_4\":\"176C3BA2-06DB-38F1-6E8B-9F3DC354172115712-022080122-oDyOoCZOBpdyXpR/2Kxgcg==\"},\"message\":\"ok\"}\n",
      "176C3BA2-06DB-38F1-6E8B-9F3DC354172115712-022080122-oDyOoCZOBpdyXpR/2Kxgcg==\n"
     ]
    }
   ],
   "source": [
    "# 从spi请求中获取buvid4\n",
    "url = 'https://api.bilibili.com/x/frontend/finger/spi'\n",
    "session = requests.Session()\n",
    "session.cookies.set('buvid3', buvid3)\n",
    "session.cookies.set('CURRENT_FNVAL', '4048')\n",
    "session.cookies.set('b_lsid', b_lsid)\n",
    "res = session.get(url)\n",
    "\n",
    "buvid4 = json.loads(res.text)['data']['b_4']\n",
    "print(buvid4)"
   ]
  },
  {
   "cell_type": "code",
   "execution_count": 14,
   "id": "0ecd6892-073c-4e12-b69f-4c5a7d30bb36",
   "metadata": {},
   "outputs": [
    {
     "data": {
      "text/plain": [
       "<Response [200]>"
      ]
     },
     "execution_count": 14,
     "metadata": {},
     "output_type": "execute_result"
    }
   ],
   "source": [
    "# 所有数据均以找到，向h5发送请求\n",
    "url ='https://api.bilibili.com/x/click-interface/click/web/h5'\n",
    "\n",
    "session.cookies.set('_uuid', _uuid)\n",
    "session.cookies.set('buvid4', buvid4)\n",
    "\n",
    "form_data = {\n",
    "    'aid': aid,\n",
    "    'cid': cid,\n",
    "    'bvid': bvid,\n",
    "    'part': 1,\n",
    "    'mid': 0,\n",
    "    'lv': 0,\n",
    "    'ftime': 1659364511,\n",
    "    'stime': 1659364511,\n",
    "    'jsonp': 'jsonp',\n",
    "    'type': 3,\n",
    "    'sub_type': 0,\n",
    "    'from_spmid': '',\n",
    "    'auto_continued_play': 0,\n",
    "    'refer_url':'', \n",
    "    'bsource': '',\n",
    "    'spmid': '',\n",
    "}\n",
    "\n",
    "session.post(url, data=form_data)"
   ]
  },
  {
   "cell_type": "code",
   "execution_count": null,
   "id": "9cf2539a-70d4-44bf-ae64-2d6b3817c24e",
   "metadata": {},
   "outputs": [],
   "source": []
  }
 ],
 "metadata": {
  "kernelspec": {
   "display_name": "Python 3 (ipykernel)",
   "language": "python",
   "name": "python3"
  },
  "language_info": {
   "codemirror_mode": {
    "name": "ipython",
    "version": 3
   },
   "file_extension": ".py",
   "mimetype": "text/x-python",
   "name": "python",
   "nbconvert_exporter": "python",
   "pygments_lexer": "ipython3",
   "version": "3.8.10"
  },
  "toc-autonumbering": false,
  "toc-showmarkdowntxt": true
 },
 "nbformat": 4,
 "nbformat_minor": 5
}
